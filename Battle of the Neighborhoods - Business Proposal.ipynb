{
    "cells": [
        {
            "cell_type": "markdown",
            "metadata": {
                "collapsed": true
            },
            "source": "# Introduction | Battle of the Neighborhoods - Business Proposal"
        },
        {
            "cell_type": "markdown",
            "metadata": {},
            "source": "## Introduction:"
        },
        {
            "cell_type": "markdown",
            "metadata": {},
            "source": "This project evaluates different neighborhoods in Scarborough, Toronto. Based on the geographical location of each neigborhood, it will be matched to nearby facilities, such as schools, bars, and hospitals. It will help people selecting a neighborhood based on their personal preferences. Because of this migrants will be aware of the area and neighborhood before moving to a new city, state, country or place for their work or to start a new fresh life.\nThis will be done using a comparative analysis between the neighborhoods. The neighborhoods will be clustered based on which facilities are most common in that specific area. Ultimately, people are able to choose a neighborhood, matching their preferences with one of the clusters."
        },
        {
            "cell_type": "markdown",
            "metadata": {},
            "source": "## Problem:"
        },
        {
            "cell_type": "markdown",
            "metadata": {},
            "source": "The main problem that this research tries to address is connecting like-minded people. When people move to Scarborough, Toronto, they want to know which neigborhood is more suitable for children, or a more vibrant neigborhood with loads of bars and restaurants. "
        },
        {
            "cell_type": "markdown",
            "metadata": {},
            "source": "## Stakeholders:"
        },
        {
            "cell_type": "markdown",
            "metadata": {},
            "source": "The main stakeholders are:\n1) The city, since this research will help them to attract more migrants and expats. As a result of this research, Toronto is able to better guide them to a suitable neigborhood.\n2) The inhabitants of Toronto, as this research clusters the neigborhoods of the city, and will provide insight on which neigborhoods have access to which kinds of facilities."
        },
        {
            "cell_type": "markdown",
            "metadata": {},
            "source": "## Data:"
        },
        {
            "cell_type": "markdown",
            "metadata": {},
            "source": "This research mainly uses two sources of data. First of all, the Four-square API as it has a database of millions of places, especially their places API which provides the ability to perform location search, location sharing and details about a business. Secondly, on Wikipedia, a table with all neighborhoods in Scarborough is listed."
        },
        {
            "cell_type": "markdown",
            "metadata": {},
            "source": "## Libraries:"
        },
        {
            "cell_type": "markdown",
            "metadata": {},
            "source": "Pandas: For creating and manipulating dataframes.\n\nFolium: Python visualization library would be used to visualize the neighborhoods cluster distribution of using interactive leaflet map.\n\nScikit Learn: For importing k-means clustering.\n\nJSON: Library to handle JSON files.\n\nXML: To separate data from presentation and XML stores data in plain text format.\n\nGeocoder: To retrieve Location Data.\n\nBeautiful Soup and Requests: To scrap and library to handle http requests.\n\nMatplotlib: Python Plotting Module."
        }
    ],
    "metadata": {
        "kernelspec": {
            "display_name": "Python 3.6",
            "language": "python",
            "name": "python3"
        },
        "language_info": {
            "codemirror_mode": {
                "name": "ipython",
                "version": 3
            },
            "file_extension": ".py",
            "mimetype": "text/x-python",
            "name": "python",
            "nbconvert_exporter": "python",
            "pygments_lexer": "ipython3",
            "version": "3.6.9"
        }
    },
    "nbformat": 4,
    "nbformat_minor": 1
}